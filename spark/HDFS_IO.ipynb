{
 "cells": [
  {
   "cell_type": "markdown",
   "metadata": {},
   "source": [
    "Start by moving a single directory to hdfs"
   ]
  },
  {
   "cell_type": "code",
   "execution_count": 10,
   "metadata": {},
   "outputs": [
    {
     "name": "stdout",
     "output_type": "stream",
     "text": [
      "D1-M  D1-Na  D1-Nb  D2-M  D2-N\tD3-M  D3-N  outputs\r\n"
     ]
    }
   ],
   "source": [
    "!ls /nfs/turbo/umms-indikar/shared/projects/cstansbu_rotation/b_cell_data/"
   ]
  },
  {
   "cell_type": "code",
   "execution_count": 16,
   "metadata": {},
   "outputs": [],
   "source": [
    "!hdfs dfs -put /nfs/turbo/umms-indikar/shared/projects/cstansbu_rotation/b_cell_data/D1-M/"
   ]
  },
  {
   "cell_type": "code",
   "execution_count": 17,
   "metadata": {},
   "outputs": [
    {
     "name": "stdout",
     "output_type": "stream",
     "text": [
      "Found 3 items\r\n",
      "drwx------   - cstansbu hadoop          0 2021-03-08 10:20 .Trash\r\n",
      "drwxr-x---   - cstansbu hadoop          0 2021-03-08 10:01 .sparkStaging\r\n",
      "drwxr-x---   - cstansbu hadoop          0 2021-03-08 10:21 D1-M\r\n"
     ]
    }
   ],
   "source": [
    "!hdfs dfs -ls"
   ]
  },
  {
   "cell_type": "code",
   "execution_count": 19,
   "metadata": {},
   "outputs": [
    {
     "name": "stdout",
     "output_type": "stream",
     "text": [
      "Found 188 items\n",
      "-rw-r-----   3 cstansbu hadoop   21242575 2021-03-08 10:20 D1-M/D1-M_0_BRR_D1-M-001.adap.txt.results.tsv\n"
     ]
    }
   ],
   "source": [
    "!hdfs dfs -ls D1-M | head -n 2"
   ]
  },
  {
   "cell_type": "code",
   "execution_count": null,
   "metadata": {},
   "outputs": [],
   "source": []
  }
 ],
 "metadata": {
  "kernelspec": {
   "display_name": "Python 3",
   "language": "python",
   "name": "python3"
  },
  "language_info": {
   "codemirror_mode": {
    "name": "ipython",
    "version": 3
   },
   "file_extension": ".py",
   "mimetype": "text/x-python",
   "name": "python",
   "nbconvert_exporter": "python",
   "pygments_lexer": "ipython3",
   "version": "3.7.4"
  }
 },
 "nbformat": 4,
 "nbformat_minor": 2
}
