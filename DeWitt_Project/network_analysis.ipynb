{
 "metadata": {
  "language_info": {
   "codemirror_mode": {
    "name": "ipython",
    "version": 3
   },
   "file_extension": ".py",
   "mimetype": "text/x-python",
   "name": "python",
   "nbconvert_exporter": "python",
   "pygments_lexer": "ipython3",
   "version": "3.7.8"
  },
  "orig_nbformat": 2,
  "kernelspec": {
   "name": "python378jvsc74a57bd0dca0ade3e726a953b501b15e8e990130d2b7799f14cfd9f4271676035ebe5511",
   "display_name": "Python 3.7.8 64-bit ('base': conda)"
  }
 },
 "nbformat": 4,
 "nbformat_minor": 2,
 "cells": [
  {
   "cell_type": "code",
   "execution_count": 2,
   "metadata": {},
   "outputs": [],
   "source": [
    "\n",
    "import os\n",
    "import numpy as np\n",
    "import pandas as pd\n",
    "import scipy\n",
    "from itertools import combinations\n",
    "from scipy.spatial.distance import pdist\n",
    "from scipy.spatial.distance import squareform\n",
    "from importlib import reload\n",
    "import networkx as nx\n",
    "import Levenshtein \n",
    "\n",
    "import seaborn as sns\n",
    "import matplotlib.pyplot as plt\n",
    "import matplotlib\n",
    "from matplotlib import cm\n",
    "\n",
    "# local imports\n",
    "import file_loader_funcs as _load\n",
    "import distance_funcs as _dist\n",
    "import plotting_funcs as _plot\n",
    "\n",
    "%matplotlib inline"
   ]
  },
  {
   "cell_type": "code",
   "execution_count": 3,
   "metadata": {},
   "outputs": [
    {
     "output_type": "stream",
     "name": "stdout",
     "text": [
      "D3-M (2000, 75)\n",
      "D3-N (2000, 75)\n"
     ]
    }
   ],
   "source": [
    "\"\"\" Define a sample \"\"\"\n",
    "\n",
    "reload(_load)\n",
    "\n",
    "SAMPLE_SIZE = 2000\n",
    "ROOT_DIR = \"/Volumes/Cooper_TB_Drive/research/rajapakse/b_cell_1/public-bcell-dataset/\"\n",
    "# DATASETS = [\n",
    "#     'D1-M',\n",
    "#     'D1-Na',\n",
    "#     'D1-Nb',\n",
    "#     'D2-N',\n",
    "#     'D2-M',\n",
    "#     'D3-M',\n",
    "#     'D3-N',\n",
    "# ]\n",
    "\n",
    "\n",
    "DATASETS = [\n",
    "    'D3-M',\n",
    "    'D3-N',\n",
    "]\n",
    "\n",
    "\n",
    "data = {}\n",
    "\n",
    "for dataset in DATASETS:\n",
    "    DIRPATH = f\"{ROOT_DIR}{dataset}\"\n",
    "    df = _load.get_samples(DIRPATH, n_sequences=SAMPLE_SIZE)\n",
    "    data[dataset] = {'sample_df' : df}\n",
    "    print(dataset, df.shape)"
   ]
  },
  {
   "cell_type": "code",
   "execution_count": 4,
   "metadata": {},
   "outputs": [],
   "source": [
    "\"\"\" filter cdr3 region. NOTE: this is done by slicing the sequence\n",
    "from the start of the v region `n` nucleotides based on the reported cdr3\n",
    "length column \"\"\"\n",
    "\n",
    "def _apply_crd3_slice(row):\n",
    "    \"\"\"An apply function to extrasct the cdr3 region from the \n",
    "    sequence\"\"\" \n",
    "    seq = row['nucleotide']\n",
    "    start = row['vIndex']\n",
    "    end = start + row['cdr3Length']\n",
    "    cdr3 = seq[start:end]\n",
    "    return cdr3\n",
    "\n",
    "\n",
    "# define the column in the sampled dataframe \n",
    "# for each sample\n",
    "for k, v in data.items():\n",
    "    v['sample_df']['cdr3_sequence'] = v['sample_df'].apply(lambda row: _apply_crd3_slice(row), axis=1)"
   ]
  },
  {
   "cell_type": "code",
   "execution_count": 5,
   "metadata": {},
   "outputs": [
    {
     "output_type": "stream",
     "name": "stdout",
     "text": [
      "D3-M (2000, 2000)\n",
      "D3-N (2000, 2000)\n"
     ]
    }
   ],
   "source": [
    "\"\"\"Compute distance matrix using real minimal edit distance\n",
    "from the python package leveshtien. Build a graph object \"\"\"\n",
    "\n",
    "for k, v in data.items():\n",
    "    A = _dist.matrix_levenshtien(v['sample_df']['cdr3_sequence'].tolist())\n",
    "    data[k]['distance_matrix'] = A\n",
    "    print(k, A.shape)"
   ]
  },
  {
   "cell_type": "code",
   "execution_count": 6,
   "metadata": {},
   "outputs": [
    {
     "output_type": "stream",
     "name": "stdout",
     "text": [
      "['__class__', '__contains__', '__delattr__', '__dict__', '__dir__', '__doc__', '__eq__', '__format__', '__ge__', '__getattribute__', '__getitem__', '__gt__', '__hash__', '__init__', '__init_subclass__', '__iter__', '__le__', '__len__', '__lt__', '__module__', '__ne__', '__new__', '__reduce__', '__reduce_ex__', '__repr__', '__setattr__', '__sizeof__', '__str__', '__subclasshook__', '__weakref__', '_adj', '_node', 'add_edge', 'add_edges_from', 'add_node', 'add_nodes_from', 'add_weighted_edges_from', 'adj', 'adjacency', 'adjlist_inner_dict_factory', 'adjlist_outer_dict_factory', 'clear', 'copy', 'degree', 'edge_attr_dict_factory', 'edge_subgraph', 'edges', 'get_edge_data', 'graph', 'graph_attr_dict_factory', 'has_edge', 'has_node', 'is_directed', 'is_multigraph', 'name', 'nbunch_iter', 'neighbors', 'node_attr_dict_factory', 'node_dict_factory', 'nodes', 'number_of_edges', 'number_of_nodes', 'order', 'pos', 'remove_edge', 'remove_edges_from', 'remove_node', 'remove_nodes_from', 'size', 'subgraph', 'to_directed', 'to_directed_class', 'to_undirected', 'to_undirected_class', 'update']\n",
      "['__class__', '__contains__', '__delattr__', '__dict__', '__dir__', '__doc__', '__eq__', '__format__', '__ge__', '__getattribute__', '__getitem__', '__gt__', '__hash__', '__init__', '__init_subclass__', '__iter__', '__le__', '__len__', '__lt__', '__module__', '__ne__', '__new__', '__reduce__', '__reduce_ex__', '__repr__', '__setattr__', '__sizeof__', '__str__', '__subclasshook__', '__weakref__', '_adj', '_node', 'add_edge', 'add_edges_from', 'add_node', 'add_nodes_from', 'add_weighted_edges_from', 'adj', 'adjacency', 'adjlist_inner_dict_factory', 'adjlist_outer_dict_factory', 'clear', 'copy', 'degree', 'edge_attr_dict_factory', 'edge_subgraph', 'edges', 'get_edge_data', 'graph', 'graph_attr_dict_factory', 'has_edge', 'has_node', 'is_directed', 'is_multigraph', 'name', 'nbunch_iter', 'neighbors', 'node_attr_dict_factory', 'node_dict_factory', 'nodes', 'number_of_edges', 'number_of_nodes', 'order', 'pos', 'remove_edge', 'remove_edges_from', 'remove_node', 'remove_nodes_from', 'size', 'subgraph', 'to_directed', 'to_directed_class', 'to_undirected', 'to_undirected_class', 'update']\n"
     ]
    }
   ],
   "source": [
    "\"\"\"Create network objects from these distance matrices\"\"\"\n",
    "\n",
    "for k, v in data.items():\n",
    "    g = nx.from_numpy_matrix(data[k]['distance_matrix'])\n",
    "    g.pos = nx.spring_layout(g, weight='weight')\n",
    "    data[k]['graph'] = g\n",
    "\n",
    "    print(dir(g))\n",
    "\n"
   ]
  },
  {
   "cell_type": "code",
   "execution_count": null,
   "metadata": {},
   "outputs": [],
   "source": []
  },
  {
   "cell_type": "code",
   "execution_count": null,
   "metadata": {},
   "outputs": [],
   "source": []
  },
  {
   "cell_type": "code",
   "execution_count": null,
   "metadata": {},
   "outputs": [],
   "source": []
  },
  {
   "cell_type": "code",
   "execution_count": 6,
   "metadata": {},
   "outputs": [],
   "source": [
    "# \"\"\" Try graph viz: WARNING: slow execution time \"\"\"\n",
    "\n",
    "# matplotlib.rcParams['figure.dpi'] = 300\n",
    "# matplotlib.rcParams['figure.figsize'] = 18, 18\n",
    "# plt.style.use('seaborn-deep')\n",
    "# _plot.plot_network_centrality(g)\n",
    "\n",
    "# plt.suptitle(f\"{DATA_NAME} Sample Network\", fontsize=30)\n",
    "# outpath = f\"figures/{DATA_NAME}_by_information_centrality_sample.png\"\n",
    "# plt.savefig(outpath, bbox_inches='tight')\n"
   ]
  },
  {
   "cell_type": "code",
   "execution_count": 7,
   "metadata": {},
   "outputs": [
    {
     "output_type": "execute_result",
     "data": {
      "text/plain": [
       "'\\nRepreated samples with replacement to see the distributions of node centrality\\n'"
      ]
     },
     "metadata": {},
     "execution_count": 7
    }
   ],
   "source": [
    "\"\"\"\n",
    "Repreated samples with replacement to see the distributions of node centrality\n",
    "\"\"\"\n",
    "\n",
    "# N_SAMPLES = 30\n",
    "# SAMPLE_SIZE = 100\n",
    "\n",
    "# matplotlib.rcParams['figure.dpi'] = 300\n",
    "# matplotlib.rcParams['figure.figsize'] = 7, 7\n",
    "# plt.style.use('seaborn-deep')\n",
    "\n",
    "# for i in range(N_SAMPLES):\n",
    "#     sample_inds = np.random.choice(list(range(A.shape[0])), SAMPLE_SIZE, replace=False)\n",
    "#     sample_A = A[sample_inds][:,sample_inds]\n",
    "#     sample_g = nx.from_numpy_matrix(sample_A)\n",
    "#     centralities = nx.eigenvector_centrality(sample_g, weight='weight')\n",
    "#     centralities = list(centralities.values())\n",
    "#     sns.kdeplot(centralities, color=(0.1, 0.3, 0.5, 0.2))\n",
    "\n",
    "# plt.suptitle(f\"{DATA_NAME} Eigenvector Centrality Distributions\")\n",
    "# plt.xlabel(\"Eigenvector centrality\")\n",
    "# outpath = f\"figures/{DATA_NAME}_centrality_distributions.png\"\n",
    "# plt.savefig(outpath, bbox_inches='tight')"
   ]
  },
  {
   "cell_type": "code",
   "execution_count": null,
   "metadata": {},
   "outputs": [],
   "source": []
  }
 ]
}