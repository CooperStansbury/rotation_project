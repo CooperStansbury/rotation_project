{
 "metadata": {
  "language_info": {
   "codemirror_mode": {
    "name": "ipython",
    "version": 3
   },
   "file_extension": ".py",
   "mimetype": "text/x-python",
   "name": "python",
   "nbconvert_exporter": "python",
   "pygments_lexer": "ipython3",
   "version": "3.7.8"
  },
  "orig_nbformat": 2,
  "kernelspec": {
   "name": "python378jvsc74a57bd0dca0ade3e726a953b501b15e8e990130d2b7799f14cfd9f4271676035ebe5511",
   "display_name": "Python 3.7.8 64-bit ('base': conda)"
  }
 },
 "nbformat": 4,
 "nbformat_minor": 2,
 "cells": [
  {
   "cell_type": "code",
   "execution_count": 5,
   "metadata": {},
   "outputs": [],
   "source": [
    "\n",
    "import os\n",
    "import numpy as np\n",
    "import pandas as pd\n",
    "import scipy\n",
    "from itertools import combinations\n",
    "from scipy.spatial.distance import pdist\n",
    "from scipy.spatial.distance import squareform\n",
    "from importlib import reload\n",
    "import networkx as nx\n",
    "import Levenshtein \n",
    "\n",
    "import seaborn as sns\n",
    "import matplotlib.pyplot as plt\n",
    "import matplotlib\n",
    "from matplotlib import cm\n",
    "\n",
    "# local imports\n",
    "import file_loader_funcs as _load\n",
    "import distance_funcs as _dist\n",
    "import plotting_funcs as _plot\n",
    "\n",
    "%matplotlib inline"
   ]
  },
  {
   "cell_type": "code",
   "execution_count": 2,
   "metadata": {},
   "outputs": [
    {
     "output_type": "stream",
     "name": "stdout",
     "text": [
      "(1000, 75)\n"
     ]
    },
    {
     "output_type": "execute_result",
     "data": {
      "text/plain": [
       "                                          nucleotide              aminoAcid  \\\n",
       "0  AACCCAGGTGGTCCTTACCATGACCAACATGGACCCTGCGGACACA...  CARLNMVRGVISNYYYGLDVW   \n",
       "1  AATAGACCAGTCCAAAAACCAACTCTCCCTGAAACTATACTCTCTG...       CARHLTTPGTRGFDLW   \n",
       "2  CATCTCCAAGGACACCTCCAGAAATCAGGTGGTCCTTACAATGACC...         CARISRKASDLDYW   \n",
       "3  TGACACGTCCAAGAGCCAGGTCTCCCTGAAATTGACCTCTGTGACC...      CARDHGSGTGGRPFESW   \n",
       "4  GGACACCTCCAAAAACCAGGTGGTCCTCTCAATGACCGACATGGAC...      CTRRRSVGLEELPFDSW   \n",
       "\n",
       "   copy  copyNormalized  count  frequency  frequencyNormalized  \\\n",
       "0     5             NaN    NaN   0.001214                  NaN   \n",
       "1     1             NaN    NaN   0.000243                  NaN   \n",
       "2     1             NaN    NaN   0.000243                  NaN   \n",
       "3     1             NaN    NaN   0.000243                  NaN   \n",
       "4     1             NaN    NaN   0.000243                  NaN   \n",
       "\n",
       "   frequencyCount  cdr3Length vFamilyName  \\\n",
       "0             NaN          63      IGHV02   \n",
       "1             NaN          48      IGHV04   \n",
       "2             NaN          42      IGHV02   \n",
       "3             NaN          51      IGHV04   \n",
       "4             NaN          51      IGHV02   \n",
       "\n",
       "                    ...                   jOrphon  vFunction dFunction  \\\n",
       "0                   ...                       NaN        NaN       NaN   \n",
       "1                   ...                       NaN        NaN       NaN   \n",
       "2                   ...                       NaN        NaN       NaN   \n",
       "3                   ...                       NaN        NaN       NaN   \n",
       "4                   ...                       NaN        NaN       NaN   \n",
       "\n",
       "  jFunction         vAlignSubstitutionIndexes dAlignSubstitutionIndexes  \\\n",
       "0       NaN                                39                       NaN   \n",
       "1       NaN      8,16,23,34,37,38,39,44,67,72                       NaN   \n",
       "2       NaN                          21,25,69                       NaN   \n",
       "3       NaN           15,20,31,32,36,56,62,64                       NaN   \n",
       "4       NaN  28,29,38,52,56,58,65,67,69,74,78                       NaN   \n",
       "\n",
       "  jAlignSubstitutionIndexes  vAlignSubstitutionGeneThreePrimeIndexes  \\\n",
       "0                     110.0                                       33   \n",
       "1                     117.0            13,18,41,46,47,48,51,62,69,77   \n",
       "2                     110.0                                 24,68,72   \n",
       "3                     126.0                  18,20,26,46,50,51,62,67   \n",
       "4                     126.0          6,10,15,17,19,26,28,32,46,55,56   \n",
       "\n",
       "  dAlignSubstitutionGeneThreePrimeIndexes  \\\n",
       "0                                     NaN   \n",
       "1                                     NaN   \n",
       "2                                     NaN   \n",
       "3                                     NaN   \n",
       "4                                     NaN   \n",
       "\n",
       "  jAlignSubstitutionGeneThreePrimeIndexes  \n",
       "0                                    21.0  \n",
       "1                                    14.0  \n",
       "2                                    21.0  \n",
       "3                                     5.0  \n",
       "4                                     5.0  \n",
       "\n",
       "[5 rows x 75 columns]"
      ],
      "text/html": "<div>\n<style scoped>\n    .dataframe tbody tr th:only-of-type {\n        vertical-align: middle;\n    }\n\n    .dataframe tbody tr th {\n        vertical-align: top;\n    }\n\n    .dataframe thead th {\n        text-align: right;\n    }\n</style>\n<table border=\"1\" class=\"dataframe\">\n  <thead>\n    <tr style=\"text-align: right;\">\n      <th></th>\n      <th>nucleotide</th>\n      <th>aminoAcid</th>\n      <th>copy</th>\n      <th>copyNormalized</th>\n      <th>count</th>\n      <th>frequency</th>\n      <th>frequencyNormalized</th>\n      <th>frequencyCount</th>\n      <th>cdr3Length</th>\n      <th>vFamilyName</th>\n      <th>...</th>\n      <th>jOrphon</th>\n      <th>vFunction</th>\n      <th>dFunction</th>\n      <th>jFunction</th>\n      <th>vAlignSubstitutionIndexes</th>\n      <th>dAlignSubstitutionIndexes</th>\n      <th>jAlignSubstitutionIndexes</th>\n      <th>vAlignSubstitutionGeneThreePrimeIndexes</th>\n      <th>dAlignSubstitutionGeneThreePrimeIndexes</th>\n      <th>jAlignSubstitutionGeneThreePrimeIndexes</th>\n    </tr>\n  </thead>\n  <tbody>\n    <tr>\n      <th>0</th>\n      <td>AACCCAGGTGGTCCTTACCATGACCAACATGGACCCTGCGGACACA...</td>\n      <td>CARLNMVRGVISNYYYGLDVW</td>\n      <td>5</td>\n      <td>NaN</td>\n      <td>NaN</td>\n      <td>0.001214</td>\n      <td>NaN</td>\n      <td>NaN</td>\n      <td>63</td>\n      <td>IGHV02</td>\n      <td>...</td>\n      <td>NaN</td>\n      <td>NaN</td>\n      <td>NaN</td>\n      <td>NaN</td>\n      <td>39</td>\n      <td>NaN</td>\n      <td>110.0</td>\n      <td>33</td>\n      <td>NaN</td>\n      <td>21.0</td>\n    </tr>\n    <tr>\n      <th>1</th>\n      <td>AATAGACCAGTCCAAAAACCAACTCTCCCTGAAACTATACTCTCTG...</td>\n      <td>CARHLTTPGTRGFDLW</td>\n      <td>1</td>\n      <td>NaN</td>\n      <td>NaN</td>\n      <td>0.000243</td>\n      <td>NaN</td>\n      <td>NaN</td>\n      <td>48</td>\n      <td>IGHV04</td>\n      <td>...</td>\n      <td>NaN</td>\n      <td>NaN</td>\n      <td>NaN</td>\n      <td>NaN</td>\n      <td>8,16,23,34,37,38,39,44,67,72</td>\n      <td>NaN</td>\n      <td>117.0</td>\n      <td>13,18,41,46,47,48,51,62,69,77</td>\n      <td>NaN</td>\n      <td>14.0</td>\n    </tr>\n    <tr>\n      <th>2</th>\n      <td>CATCTCCAAGGACACCTCCAGAAATCAGGTGGTCCTTACAATGACC...</td>\n      <td>CARISRKASDLDYW</td>\n      <td>1</td>\n      <td>NaN</td>\n      <td>NaN</td>\n      <td>0.000243</td>\n      <td>NaN</td>\n      <td>NaN</td>\n      <td>42</td>\n      <td>IGHV02</td>\n      <td>...</td>\n      <td>NaN</td>\n      <td>NaN</td>\n      <td>NaN</td>\n      <td>NaN</td>\n      <td>21,25,69</td>\n      <td>NaN</td>\n      <td>110.0</td>\n      <td>24,68,72</td>\n      <td>NaN</td>\n      <td>21.0</td>\n    </tr>\n    <tr>\n      <th>3</th>\n      <td>TGACACGTCCAAGAGCCAGGTCTCCCTGAAATTGACCTCTGTGACC...</td>\n      <td>CARDHGSGTGGRPFESW</td>\n      <td>1</td>\n      <td>NaN</td>\n      <td>NaN</td>\n      <td>0.000243</td>\n      <td>NaN</td>\n      <td>NaN</td>\n      <td>51</td>\n      <td>IGHV04</td>\n      <td>...</td>\n      <td>NaN</td>\n      <td>NaN</td>\n      <td>NaN</td>\n      <td>NaN</td>\n      <td>15,20,31,32,36,56,62,64</td>\n      <td>NaN</td>\n      <td>126.0</td>\n      <td>18,20,26,46,50,51,62,67</td>\n      <td>NaN</td>\n      <td>5.0</td>\n    </tr>\n    <tr>\n      <th>4</th>\n      <td>GGACACCTCCAAAAACCAGGTGGTCCTCTCAATGACCGACATGGAC...</td>\n      <td>CTRRRSVGLEELPFDSW</td>\n      <td>1</td>\n      <td>NaN</td>\n      <td>NaN</td>\n      <td>0.000243</td>\n      <td>NaN</td>\n      <td>NaN</td>\n      <td>51</td>\n      <td>IGHV02</td>\n      <td>...</td>\n      <td>NaN</td>\n      <td>NaN</td>\n      <td>NaN</td>\n      <td>NaN</td>\n      <td>28,29,38,52,56,58,65,67,69,74,78</td>\n      <td>NaN</td>\n      <td>126.0</td>\n      <td>6,10,15,17,19,26,28,32,46,55,56</td>\n      <td>NaN</td>\n      <td>5.0</td>\n    </tr>\n  </tbody>\n</table>\n<p>5 rows × 75 columns</p>\n</div>"
     },
     "metadata": {},
     "execution_count": 2
    }
   ],
   "source": [
    "\"\"\" Define a sample \"\"\"\n",
    "\n",
    "reload(_load)\n",
    "\n",
    "ROOT_DIR = \"/Volumes/Cooper_TB_Drive/research/rajapakse/b_cell_1/public-bcell-dataset/\"\n",
    "DATA_NAME = 'D1-M'\n",
    "DIRPATH = f\"{ROOT_DIR}{DATA_NAME}\"\n",
    "\n",
    "df = _load.get_samples(DIRPATH, n_sequences=1000)\n",
    "print(df.shape)\n",
    "df.head()"
   ]
  },
  {
   "cell_type": "code",
   "execution_count": 3,
   "metadata": {},
   "outputs": [],
   "source": [
    "\"\"\" filter cdr3 region. NOTE: this is done by slicing the sequence\n",
    "from the start of the v region `n` nucleotides based on the reported cdr3\n",
    "length column \"\"\"\n",
    "\n",
    "def _apply_crd3_slice(row):\n",
    "    \"\"\"An apply function to extract the cdr3 region from the \n",
    "    sequence\"\"\" \n",
    "    seq = row['nucleotide']\n",
    "    start = row['vIndex']\n",
    "    end = start + row['cdr3Length']\n",
    "    cdr3 = seq[start:end]\n",
    "    return cdr3\n",
    "\n",
    "# define the column in the sampled dataframe \n",
    "df['cdr3_sequence'] = df.apply(lambda row: _apply_crd3_slice(row), axis=1)"
   ]
  },
  {
   "cell_type": "code",
   "execution_count": 4,
   "metadata": {},
   "outputs": [],
   "source": [
    "\"\"\"Compute distance matrix using real minimal edit distance\n",
    "from the python package leveshtien. Build a graph object \"\"\"\n",
    "\n",
    "A = _dist.matrix_levenshtien(df['cdr3_sequence'].tolist())\n",
    "g = nx.from_numpy_matrix(A)\n",
    "g.pos = nx.spring_layout(g, weight='weight')"
   ]
  },
  {
   "cell_type": "code",
   "execution_count": 6,
   "metadata": {},
   "outputs": [],
   "source": [
    "# \"\"\" Try graph viz: WARNING: slow execution time \"\"\"\n",
    "\n",
    "# matplotlib.rcParams['figure.dpi'] = 300\n",
    "# matplotlib.rcParams['figure.figsize'] = 18, 18\n",
    "# plt.style.use('seaborn-deep')\n",
    "# _plot.plot_network_centrality(g)\n",
    "\n",
    "# plt.suptitle(f\"{DATA_NAME} Sample Network\", fontsize=30)\n",
    "# outpath = f\"figures/{DATA_NAME}_by_information_centrality_sample.png\"\n",
    "# plt.savefig(outpath, bbox_inches='tight')\n"
   ]
  },
  {
   "cell_type": "code",
   "execution_count": 7,
   "metadata": {},
   "outputs": [
    {
     "output_type": "execute_result",
     "data": {
      "text/plain": [
       "'\\nRepreated samples with replacement to see the distributions of node centrality\\n'"
      ]
     },
     "metadata": {},
     "execution_count": 7
    }
   ],
   "source": [
    "\"\"\"\n",
    "Repreated samples with replacement to see the distributions of node centrality\n",
    "\"\"\"\n",
    "\n",
    "# N_SAMPLES = 30\n",
    "# SAMPLE_SIZE = 100\n",
    "\n",
    "# matplotlib.rcParams['figure.dpi'] = 300\n",
    "# matplotlib.rcParams['figure.figsize'] = 7, 7\n",
    "# plt.style.use('seaborn-deep')\n",
    "\n",
    "# for i in range(N_SAMPLES):\n",
    "#     sample_inds = np.random.choice(list(range(A.shape[0])), SAMPLE_SIZE, replace=False)\n",
    "#     sample_A = A[sample_inds][:,sample_inds]\n",
    "#     sample_g = nx.from_numpy_matrix(sample_A)\n",
    "#     centralities = nx.eigenvector_centrality(sample_g, weight='weight')\n",
    "#     centralities = list(centralities.values())\n",
    "#     sns.kdeplot(centralities, color=(0.1, 0.3, 0.5, 0.2))\n",
    "\n",
    "# plt.suptitle(f\"{DATA_NAME} Eigenvector Centrality Distributions\")\n",
    "# plt.xlabel(\"Eigenvector centrality\")\n",
    "# outpath = f\"figures/{DATA_NAME}_centrality_distributions.png\"\n",
    "# plt.savefig(outpath, bbox_inches='tight')"
   ]
  },
  {
   "cell_type": "code",
   "execution_count": null,
   "metadata": {},
   "outputs": [],
   "source": []
  }
 ]
}